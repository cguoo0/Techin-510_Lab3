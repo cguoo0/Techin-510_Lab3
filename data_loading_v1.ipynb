{
 "cells": [
  {
   "cell_type": "markdown",
   "metadata": {},
   "source": [
    "SQLite"
   ]
  },
  {
   "cell_type": "code",
   "execution_count": 29,
   "metadata": {},
   "outputs": [],
   "source": [
    "import sqlite3\n",
    "con = sqlite3.connect(\"prompts.sqlite\", isolation_level=None)\n",
    "cur = con.cursor()"
   ]
  },
  {
   "cell_type": "code",
   "execution_count": 30,
   "metadata": {},
   "outputs": [
    {
     "data": {
      "text/plain": [
       "<sqlite3.Cursor at 0x1120ae3c0>"
      ]
     },
     "execution_count": 30,
     "metadata": {},
     "output_type": "execute_result"
    }
   ],
   "source": [
    "cur.execute(\"\"\"DROP TABLE IF EXISTS prompts\"\"\")\n"
   ]
  },
  {
   "cell_type": "code",
   "execution_count": 31,
   "metadata": {},
   "outputs": [
    {
     "data": {
      "text/plain": [
       "<sqlite3.Cursor at 0x1120ae3c0>"
      ]
     },
     "execution_count": 31,
     "metadata": {},
     "output_type": "execute_result"
    }
   ],
   "source": [
    "cur.execute(\"\"\"\n",
    "CREATE TABLE IF NOT EXISTS prompts (\n",
    "    title_text TEXT,\n",
    "    prompt_text TEXT,\n",
    "    created_at DATETIME DEFAULT CURRENT_TIMESTAMP\n",
    ")\n",
    "\"\"\")"
   ]
  },
  {
   "cell_type": "code",
   "execution_count": 32,
   "metadata": {},
   "outputs": [],
   "source": [
    "# Check if the table is created\n",
    "res = cur.execute(\"SELECT name FROM sqlite_master\")"
   ]
  },
  {
   "cell_type": "code",
   "execution_count": 33,
   "metadata": {},
   "outputs": [
    {
     "data": {
      "text/plain": [
       "('prompts',)"
      ]
     },
     "execution_count": 33,
     "metadata": {},
     "output_type": "execute_result"
    }
   ],
   "source": [
    "res.fetchone()\n"
   ]
  },
  {
   "cell_type": "code",
   "execution_count": 34,
   "metadata": {},
   "outputs": [
    {
     "data": {
      "text/plain": [
       "<sqlite3.Cursor at 0x1120ae3c0>"
      ]
     },
     "execution_count": 34,
     "metadata": {},
     "output_type": "execute_result"
    }
   ],
   "source": [
    "q = \"\"\"\n",
    "INSERT INTO prompts (title_text, prompt_text) VALUES (?, ?)\n",
    "\"\"\"\n",
    "cur.execute(q, (\"butterfly\", \"Describe the life cycle of a butterfly.\"))\n"
   ]
  },
  {
   "cell_type": "code",
   "execution_count": 35,
   "metadata": {},
   "outputs": [
    {
     "data": {
      "text/plain": [
       "<sqlite3.Cursor at 0x1120ae3c0>"
      ]
     },
     "execution_count": 35,
     "metadata": {},
     "output_type": "execute_result"
    }
   ],
   "source": [
    "cur.execute(q, (\"UW Program\", \"UX program in UW\"))\n"
   ]
  },
  {
   "cell_type": "code",
   "execution_count": 36,
   "metadata": {},
   "outputs": [
    {
     "name": "stdout",
     "output_type": "stream",
     "text": [
      "('butterfly', 'Describe the life cycle of a butterfly.', '2024-04-14 23:49:30')\n",
      "('UW Program', 'UX program in UW', '2024-04-14 23:49:30')\n"
     ]
    }
   ],
   "source": [
    "for row in cur.execute(\"\"\"SELECT * FROM prompts\"\"\"):\n",
    "    print(row)"
   ]
  },
  {
   "cell_type": "code",
   "execution_count": 37,
   "metadata": {},
   "outputs": [],
   "source": [
    "for row in cur:\n",
    "    print(row)"
   ]
  },
  {
   "cell_type": "code",
   "execution_count": 38,
   "metadata": {},
   "outputs": [
    {
     "data": {
      "text/plain": [
       "<sqlite3.Cursor at 0x1120ae3c0>"
      ]
     },
     "execution_count": 38,
     "metadata": {},
     "output_type": "execute_result"
    }
   ],
   "source": [
    "data = [\n",
    "    (\"Cosmic Wonders\", \"Describe the process of star formation in nebulae and the role of gravity in shaping galaxies.\"),\n",
    "    (\"Historic Innovations\", \"Discuss the impact of the printing press on European society in the 15th century and how it transformed communication.\"),\n",
    "    (\"Ocean Depths\", \"Explain the ecosystem of deep-sea hydrothermal vents and the types of organisms that thrive in such extreme conditions.\"),\n",
    "]\n",
    "cur.executemany(\"INSERT INTO prompts (title_text, prompt_text) VALUES (?, ?)\", data)"
   ]
  },
  {
   "cell_type": "code",
   "execution_count": 43,
   "metadata": {},
   "outputs": [
    {
     "data": {
      "text/plain": [
       "<sqlite3.Cursor at 0x1120ae3c0>"
      ]
     },
     "execution_count": 43,
     "metadata": {},
     "output_type": "execute_result"
    }
   ],
   "source": [
    "cur.execute(q, (\"ai chatbot\", \"AI chatbot application in design\"))\n"
   ]
  },
  {
   "cell_type": "code",
   "execution_count": 44,
   "metadata": {},
   "outputs": [
    {
     "name": "stdout",
     "output_type": "stream",
     "text": [
      "('ai chatbot', 'AI chatbot application in design', '2024-04-14 23:55:36')\n",
      "('Cosmic Wonders', 'Describe the process of star formation in nebulae and the role of gravity in shaping galaxies.', '2024-04-14 23:51:41')\n",
      "('Historic Innovations', 'Discuss the impact of the printing press on European society in the 15th century and how it transformed communication.', '2024-04-14 23:51:41')\n",
      "('Ocean Depths', 'Explain the ecosystem of deep-sea hydrothermal vents and the types of organisms that thrive in such extreme conditions.', '2024-04-14 23:51:41')\n",
      "('butterfly', 'Describe the life cycle of a butterfly.', '2024-04-14 23:49:30')\n",
      "('UW Program', 'UX program in UW', '2024-04-14 23:49:30')\n"
     ]
    }
   ],
   "source": [
    "select_query = \"\"\"\n",
    "SELECT * FROM prompts ORDER BY created_at DESC\n",
    "\"\"\"\n",
    "\n",
    "# Execute the query and print the results\n",
    "for row in cur.execute(select_query):\n",
    "    print(row)"
   ]
  },
  {
   "cell_type": "markdown",
   "metadata": {},
   "source": [
    "Pandas"
   ]
  },
  {
   "cell_type": "code",
   "execution_count": 47,
   "metadata": {},
   "outputs": [],
   "source": [
    "import pandas as pd"
   ]
  }
 ],
 "metadata": {
  "kernelspec": {
   "display_name": "venv",
   "language": "python",
   "name": "python3"
  },
  "language_info": {
   "codemirror_mode": {
    "name": "ipython",
    "version": 3
   },
   "file_extension": ".py",
   "mimetype": "text/x-python",
   "name": "python",
   "nbconvert_exporter": "python",
   "pygments_lexer": "ipython3",
   "version": "3.11.5"
  }
 },
 "nbformat": 4,
 "nbformat_minor": 2
}
